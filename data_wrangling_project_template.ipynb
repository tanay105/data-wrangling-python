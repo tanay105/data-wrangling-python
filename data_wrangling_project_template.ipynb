{
 "cells": [
  {
   "cell_type": "markdown",
   "metadata": {
    "hideCode": true,
    "hidePrompt": true
   },
   "source": [
    "## Project: Data Wrangling using Pandas and Regex\n",
    "\n",
    "In this project you are asked __to implement__ and __perform a unit testing__ for a series of Python functions (Q1-Q13) that are typically required during the ***data wrangling*** phase of the end-to-end data science pipeline. A subset of unit testing functions is provided for you. You are expected to write unit testing for all the remaining functions.\n",
    "\n",
    "__Data Wrangling consists of the following main steps:__\n",
    "\n",
    "* Data Acquisition\n",
    "* Data Cleansing\n",
    "* Data Understanding: Basics\n",
    "* Data Manipulation\n",
    "  \n",
    "  \n",
    "__1. Data Acquisition Objectives__\n",
    "\n",
    "* Question 1: How to import multiples files for storage and access? (store filenames in array)\n",
    "* Question 2: How to import data in different formats? (read_excel, read_csv)\n",
    "* Question 2: How are they read into by pandas? (DataFrame)\n",
    "* Question 4: How to have a peek at the data after import? (head/tail)\n",
    "\n",
    "__2. Data Cleansing Objectives__\n",
    "\n",
    "* Question 5: Check attributes of each file\n",
    "* Question 5: Identify data types\n",
    "* Question 5: Apply coercion if applicable\n",
    "* Question 5: Check for NA/missing data\n",
    "* Question 6: Remove/replace corrupt data\n",
    "* Question 6: Identify duplicate data\n",
    "* Question 6: Check for corrupt/incorrect data  \n",
    "\n",
    "* Check for data consistency (e.g. GPA cannot be less than 0)\n",
    "* Identifying and removing outliers\n",
    "\n",
    "__3. Data Understanding Objectives__\n",
    "\n",
    "* Question 7: Basic Summary Statistics\n",
    "* Question 9: Dimensionality\n",
    "\n",
    "__4. Data Manipulation Objectives__\n",
    "\n",
    "* Question 11: Merge/Concatenate DataFrame\n",
    "* Question 11: Mapping to create a new attribute\n",
    "* Question 11: Incorporate the use of multiple functions\n",
    "* Question 12: Filter to subset the data\n",
    "* Question 13: Discretize data \n",
    "  \n",
    "  \n",
    "__Regular Expressions:__ *Regular expressions are used in conjunction with other preprocessing steps for matching/parsing patterns.*\n",
    "\n",
    "* Questions 2/5/6: Filter to subset the dataUse regular expressions to find/match specific content\n",
    "* Question 6: Filter to subset the dataString manipulation via. substring and replace methods"
   ]
  },
  {
   "cell_type": "markdown",
   "metadata": {
    "hideCode": true,
    "hidePrompt": true
   },
   "source": [
    "## Install Required Packages\n",
    "\n",
    "If you do not have Anaconda installed, then you may need to install the following packages using the following commands (Note: If you have Anaconda installed, then you already have Pandas and `regex`):\n",
    "\n",
    "> pip3 install pandas  \n",
    "  \n",
    "> pip3 install regex\n",
    "\n",
    "## INSTRUCTIONS: In all the functions, remove the `pass` statement and write your code."
   ]
  },
  {
   "cell_type": "code",
   "execution_count": 1,
   "metadata": {
    "hideCode": false,
    "hidePrompt": true
   },
   "outputs": [],
   "source": [
    "import pandas as pd\n",
    "import re\n",
    "import glob\n",
    "import copy\n",
    "\n",
    "%matplotlib inline\n",
    "import matplotlib.pyplot as plt"
   ]
  },
  {
   "cell_type": "markdown",
   "metadata": {
    "hideCode": false,
    "hidePrompt": true
   },
   "source": [
    "### __Question 1: Write a function to import all excel file names into a list.__\n",
    "\n",
    "_Hint: Use the glob module._"
   ]
  },
  {
   "cell_type": "code",
   "execution_count": 2,
   "metadata": {
    "hideCode": false,
    "hidePrompt": true
   },
   "outputs": [
    {
     "name": "stdout",
     "output_type": "stream",
     "text": [
      "['./data_raw/Python-QUIZ Taxonomy of Python Data Structures (12 min.)-grades.xlsx', './data_raw/Python-QUIZ Functions (18 min.)-grades.xlsx', './data_raw/Python-QUIZ Coercion (6 min.)-grades.xlsx', './data_raw/Python-QUIZ Strings (5 min.)-grades.xlsx', './data_raw/Python-QUIZ Lists (10 min.)-grades.xlsx', './data_raw/Python-QUIZ Iterations (6 min.)-grades.xlsx', './data_raw/Python-QUIZ Sets (7 min)-grades.xlsx', './data_raw/Python-QUIZ Exceptions (10 min.)-grades.xlsx', './data_raw/Python-QUIZ Dictionaries (10 min.)-grades.xlsx', './data_raw/Python-QUIZ Tuples (10 min.)-grades.xlsx', './data_raw/Python-QUIZ Conditionals (6 min.)-grades.xlsx']\n"
     ]
    }
   ],
   "source": [
    "def Q1_function():\n",
    "    \"\"\"\n",
    "    :type : None\n",
    "    :rtype: List[String]\n",
    "    \"\"\"\n",
    "    files = []\n",
    "    for f in glob.glob('./data_raw/*'):\n",
    "        files.append(f) \n",
    "    return files\n",
    "\n",
    "# Call the function and print the result. This result is used in subsequent questions.\n",
    "filenames = Q1_function()\n",
    "print(filenames)"
   ]
  },
  {
   "cell_type": "markdown",
   "metadata": {
    "hideCode": false,
    "hidePrompt": true
   },
   "source": [
    "### __Question 2: Write a function to return the name of the excel file based on a given string. *(The string is defined for you)*__  \n",
    "*Hints: Use the following.*\n",
    "* Regex 're.search' function.\n",
    "* Pandas function 'read_excel'"
   ]
  },
  {
   "cell_type": "code",
   "execution_count": 3,
   "metadata": {
    "hideCode": false,
    "hidePrompt": true
   },
   "outputs": [
    {
     "name": "stdout",
     "output_type": "stream",
     "text": [
      "./data_raw/Python-QUIZ Dictionaries (10 min.)-grades.xlsx\n"
     ]
    }
   ],
   "source": [
    "def Q2_function(files, s):\n",
    "    \"\"\"\n",
    "    :type : List[String], String\n",
    "    :rtype: String\n",
    "    \"\"\"\n",
    "    pattern = '[\\s\\S]+' + s + '[\\s\\S]+'\n",
    "    for file in files:\n",
    "        m = re.search(pattern, file)\n",
    "        if m:\n",
    "            return m.group()\n",
    "    return None\n",
    "\n",
    "# Call the function and print the result. Use this to check the correctness of your code and for debugging.\n",
    "file = Q2_function(filenames, s = \"Dictionaries\")\n",
    "print(file)"
   ]
  },
  {
   "cell_type": "markdown",
   "metadata": {
    "hideCode": false,
    "hidePrompt": true
   },
   "source": [
    "### __Question 3: Write a function to load the \"Functions\" excel file into a Pandas DataFrame.__  \n",
    "*Hint: Remember you have executed functions in Questions 1 and 2. Try using them here. You can save some coding time!*  \n",
    "* Use the result from Question 1.\n",
    "* Use the function written in Question 2.\n",
    "* Use the Pandas function 'read_excel' to import an excel file."
   ]
  },
  {
   "cell_type": "code",
   "execution_count": 4,
   "metadata": {
    "hideCode": false,
    "hidePrompt": true
   },
   "outputs": [
    {
     "name": "stdout",
     "output_type": "stream",
     "text": [
      "    Unnamed: 0     State                  Started on  \\\n",
      "0            0  Finished    February 5 2018  3:19 PM   \n",
      "1            1  Finished    February 4 2018  4:01 PM   \n",
      "2           12  Finished    February 6 2018  3:57 PM   \n",
      "3            2  Finished   February 10 2018  4:05 PM   \n",
      "4            3  Finished    February 4 2018  4:59 PM   \n",
      "5            4  Finished    February 5 2018  5:20 PM   \n",
      "6            5  Finished   February 10 2018  9:49 PM   \n",
      "7            6  Finished    February 5 2018  8:30 PM   \n",
      "8            7  Finished   February 13 2018  4:17 AM   \n",
      "9            8  Finished   February 12 2018  2:19 PM   \n",
      "10           9  Finished  February 13 2018  10:45 AM   \n",
      "11          10  Finished   February 11 2018  1:48 AM   \n",
      "12           4  Finished    February 5 2018  5:20 PM   \n",
      "13           5  Finished   February 10 2018  9:49 PM   \n",
      "14          11  Finished   February 13 2018  7:07 PM   \n",
      "15          12  Finished    February 6 2018  3:57 PM   \n",
      "16          13  Finished    February 5 2018  6:52 PM   \n",
      "17          14  Finished  February 13 2018  11:33 AM   \n",
      "18          15  Finished   February 11 2018  3:39 PM   \n",
      "19           6  Finished    February 5 2018  8:30 PM   \n",
      "20          16  Finished   February 6 2018  10:41 AM   \n",
      "21          17  Finished   February 11 2018  4:20 PM   \n",
      "22          18  Finished   February 12 2018  7:52 PM   \n",
      "23           8  Finished   February 12 2018  2:19 PM   \n",
      "\n",
      "                     Completed       Time taken  Grade/45.00  Q. 1 /5.00  \\\n",
      "0     February 5 2018  3:34 PM  14 mins 16 secs           32           5   \n",
      "1     February 4 2018  4:19 PM  17 mins 54 secs           31           5   \n",
      "2     February 6 2018  4:12 PM  15 mins 44 secs           20           3   \n",
      "3    February 10 2018  4:23 PM          18 mins           30           5   \n",
      "4     February 4 2018  5:16 PM  17 mins 31 secs           26           5   \n",
      "5     February 5 2018  5:38 PM  17 mins 59 secs           25           5   \n",
      "6   February 10 2018  10:07 PM          18 mins           24           5   \n",
      "7     February 5 2018  8:48 PM          18 mins           23           5   \n",
      "8    February 13 2018  4:35 AM    18 mins 1 sec           23           4   \n",
      "9    February 12 2018  2:35 PM  16 mins 44 secs           22           4   \n",
      "10  February 13 2018  11:03 AM    18 mins 1 sec           22           5   \n",
      "11   February 11 2018  2:06 AM          18 mins           21           5   \n",
      "12    February 5 2018  5:38 PM  17 mins 59 secs           25           5   \n",
      "13  February 10 2018  10:07 PM          18 mins           24           5   \n",
      "14   February 13 2018  7:20 PM  12 mins 59 secs           21           4   \n",
      "15    February 6 2018  4:12 PM  15 mins 44 secs           20           3   \n",
      "16    February 5 2018  7:10 PM    18 mins 1 sec           17           4   \n",
      "17  February 13 2018  11:51 AM          18 mins           17           5   \n",
      "18   February 11 2018  3:57 PM    18 mins 1 sec           16           3   \n",
      "19    February 5 2018  8:48 PM          18 mins           23           5   \n",
      "20   February 6 2018  11:30 AM  48 mins 39 secs           15           4   \n",
      "21   February 11 2018  4:38 PM    18 mins 1 sec           13           3   \n",
      "22   February 12 2018  8:07 PM  14 mins 31 secs           13           3   \n",
      "23   February 12 2018  2:35 PM  16 mins 44 secs           22           4   \n",
      "\n",
      "    Q. 2 /10.00  Q. 3 /6.00 Q. 4 /6.00 Q. 5 /12.00 Q. 6 /6.00  id  \n",
      "0             6           6       3.00       12.00       0.00   0  \n",
      "1             8           6          -       12.00       0.00   1  \n",
      "2             4           3          -       10.00       0.00  12  \n",
      "3             6           6       3.00       10.00          -   2  \n",
      "4             6           6       3.00        6.00       0.00   3  \n",
      "5             6           6       6.00        2.00       0.00   4  \n",
      "6             6           6       3.00        4.00          -   5  \n",
      "7             6           0       0.00        6.00       6.00   6  \n",
      "8             4           6       3.00        6.00       0.00   7  \n",
      "9             4           6       0.00        8.00       0.00   8  \n",
      "10            8           6       3.00           -          -   9  \n",
      "11           10           6          -           -          -  10  \n",
      "12            6           6       6.00        2.00       0.00   4  \n",
      "13            6           6       3.00        4.00          -   5  \n",
      "14            4           3       0.00        4.00       6.00  11  \n",
      "15            4           3          -       10.00       0.00  12  \n",
      "16            4           6       3.00        0.00          -  13  \n",
      "17            4           3       3.00        2.00       0.00  14  \n",
      "18            6           3       0.00        4.00          -  15  \n",
      "19            6           0       0.00        6.00       6.00   6  \n",
      "20            2           3       0.00        6.00       0.00  16  \n",
      "21            4           6          -           -          -  17  \n",
      "22            4           6       0.00        0.00       0.00  18  \n",
      "23            4           6       0.00        8.00       0.00   8  \n"
     ]
    }
   ],
   "source": [
    "def Q3_function(files, s):\n",
    "    \"\"\"\n",
    "    :type : List[String], String\n",
    "    :rtype: Pandas DataFrame\n",
    "    \"\"\"\n",
    "    functions_file = Q2_function(files, s)\n",
    "    functions_df = pd.read_excel(functions_file)\n",
    "    return functions_df\n",
    "\n",
    "# Call the function and print the result. This result is used in subsequent questions.\n",
    "functions_df = Q3_function(filenames, s = \"Functions\")\n",
    "print(functions_df)\n",
    "# functions_df.head(3)"
   ]
  },
  {
   "cell_type": "markdown",
   "metadata": {
    "hideCode": false,
    "hidePrompt": true
   },
   "source": [
    "### __Question 4: Using the output obtained in Question 3 as input for the current question, write a function to do the following.__  \n",
    "* Find all the names of the columns and return as a list.\n",
    "* Find the subset of the DataFrame (use `df.loc`) and return the new DataFrame. Include the following columns:   \n",
    "_\"id\", \"Time taken\", \"Grade/45.00\", \"Q. 1 /5.00\", \"Q. 2 /10.00\", \"Q. 3 /6.00\", \"Q. 4 /6.00\", \"Q. 5 /12.00\", \"Q. 6 /6.00\"_\n",
    "* Return the top 10 rows (use `df.head function`).\n",
    "\n",
    "Learn about returning multiple values in Python."
   ]
  },
  {
   "cell_type": "code",
   "execution_count": 5,
   "metadata": {
    "hideCode": false,
    "hidePrompt": true
   },
   "outputs": [
    {
     "name": "stdout",
     "output_type": "stream",
     "text": [
      "Column Names\n",
      "['State', 'Started on', 'Completed', 'Time taken', 'Grade/45.00', 'Q. 1 /5.00', 'Q. 2 /10.00', 'Q. 3 /6.00', 'Q. 4 /6.00', 'Q. 5 /12.00', 'Q. 6 /6.00', 'id']\n",
      "\n",
      "Subsetted Data\n",
      "    id       Time taken  Grade/45.00  Q. 1 /5.00  Q. 2 /10.00  Q. 3 /6.00  \\\n",
      "0    0  14 mins 16 secs           32           5            6           6   \n",
      "1    1  17 mins 54 secs           31           5            8           6   \n",
      "2   12  15 mins 44 secs           20           3            4           3   \n",
      "3    2          18 mins           30           5            6           6   \n",
      "4    3  17 mins 31 secs           26           5            6           6   \n",
      "5    4  17 mins 59 secs           25           5            6           6   \n",
      "6    5          18 mins           24           5            6           6   \n",
      "7    6          18 mins           23           5            6           0   \n",
      "8    7    18 mins 1 sec           23           4            4           6   \n",
      "9    8  16 mins 44 secs           22           4            4           6   \n",
      "10   9    18 mins 1 sec           22           5            8           6   \n",
      "11  10          18 mins           21           5           10           6   \n",
      "12   4  17 mins 59 secs           25           5            6           6   \n",
      "13   5          18 mins           24           5            6           6   \n",
      "14  11  12 mins 59 secs           21           4            4           3   \n",
      "15  12  15 mins 44 secs           20           3            4           3   \n",
      "16  13    18 mins 1 sec           17           4            4           6   \n",
      "17  14          18 mins           17           5            4           3   \n",
      "18  15    18 mins 1 sec           16           3            6           3   \n",
      "19   6          18 mins           23           5            6           0   \n",
      "20  16  48 mins 39 secs           15           4            2           3   \n",
      "21  17    18 mins 1 sec           13           3            4           6   \n",
      "22  18  14 mins 31 secs           13           3            4           6   \n",
      "23   8  16 mins 44 secs           22           4            4           6   \n",
      "\n",
      "   Q. 4 /6.00 Q. 5 /12.00 Q. 6 /6.00  \n",
      "0        3.00       12.00       0.00  \n",
      "1           -       12.00       0.00  \n",
      "2           -       10.00       0.00  \n",
      "3        3.00       10.00          -  \n",
      "4        3.00        6.00       0.00  \n",
      "5        6.00        2.00       0.00  \n",
      "6        3.00        4.00          -  \n",
      "7        0.00        6.00       6.00  \n",
      "8        3.00        6.00       0.00  \n",
      "9        0.00        8.00       0.00  \n",
      "10       3.00           -          -  \n",
      "11          -           -          -  \n",
      "12       6.00        2.00       0.00  \n",
      "13       3.00        4.00          -  \n",
      "14       0.00        4.00       6.00  \n",
      "15          -       10.00       0.00  \n",
      "16       3.00        0.00          -  \n",
      "17       3.00        2.00       0.00  \n",
      "18       0.00        4.00          -  \n",
      "19       0.00        6.00       6.00  \n",
      "20       0.00        6.00       0.00  \n",
      "21          -           -          -  \n",
      "22       0.00        0.00       0.00  \n",
      "23       0.00        8.00       0.00  \n",
      "\n",
      "Top 10 Rows\n",
      "   Unnamed: 0     State                 Started on  \\\n",
      "0           0  Finished   February 5 2018  3:19 PM   \n",
      "1           1  Finished   February 4 2018  4:01 PM   \n",
      "2          12  Finished   February 6 2018  3:57 PM   \n",
      "3           2  Finished  February 10 2018  4:05 PM   \n",
      "4           3  Finished   February 4 2018  4:59 PM   \n",
      "5           4  Finished   February 5 2018  5:20 PM   \n",
      "6           5  Finished  February 10 2018  9:49 PM   \n",
      "7           6  Finished   February 5 2018  8:30 PM   \n",
      "8           7  Finished  February 13 2018  4:17 AM   \n",
      "9           8  Finished  February 12 2018  2:19 PM   \n",
      "\n",
      "                    Completed       Time taken  Grade/45.00  Q. 1 /5.00  \\\n",
      "0    February 5 2018  3:34 PM  14 mins 16 secs           32           5   \n",
      "1    February 4 2018  4:19 PM  17 mins 54 secs           31           5   \n",
      "2    February 6 2018  4:12 PM  15 mins 44 secs           20           3   \n",
      "3   February 10 2018  4:23 PM          18 mins           30           5   \n",
      "4    February 4 2018  5:16 PM  17 mins 31 secs           26           5   \n",
      "5    February 5 2018  5:38 PM  17 mins 59 secs           25           5   \n",
      "6  February 10 2018  10:07 PM          18 mins           24           5   \n",
      "7    February 5 2018  8:48 PM          18 mins           23           5   \n",
      "8   February 13 2018  4:35 AM    18 mins 1 sec           23           4   \n",
      "9   February 12 2018  2:35 PM  16 mins 44 secs           22           4   \n",
      "\n",
      "   Q. 2 /10.00  Q. 3 /6.00 Q. 4 /6.00 Q. 5 /12.00 Q. 6 /6.00  id  \n",
      "0            6           6       3.00       12.00       0.00   0  \n",
      "1            8           6          -       12.00       0.00   1  \n",
      "2            4           3          -       10.00       0.00  12  \n",
      "3            6           6       3.00       10.00          -   2  \n",
      "4            6           6       3.00        6.00       0.00   3  \n",
      "5            6           6       6.00        2.00       0.00   4  \n",
      "6            6           6       3.00        4.00          -   5  \n",
      "7            6           0       0.00        6.00       6.00   6  \n",
      "8            4           6       3.00        6.00       0.00   7  \n",
      "9            4           6       0.00        8.00       0.00   8  \n"
     ]
    }
   ],
   "source": [
    "def Q4_function(dataframe):\n",
    "    \"\"\"\n",
    "    :type : DataFrame\n",
    "    :rtype: [String], DataFrame, DataFrame\n",
    "    \"\"\"\n",
    "    columns = dataframe.columns\n",
    "    names = []\n",
    "    for name in columns:\n",
    "        if 'Unnamed' not in name:\n",
    "            names.append(name)\n",
    "    vars = [\"id\", \"Time taken\", \"Grade/45.00\", \"Q. 1 /5.00\", \"Q. 2 /10.00\", \"Q. 3 /6.00\", \"Q. 4 /6.00\", \"Q. 5 /12.00\", \"Q. 6 /6.00\"]\n",
    "    df_subset = dataframe.loc[:, vars]\n",
    "    top_10 = dataframe.head(10)\n",
    "    return names, df_subset, top_10\n",
    "\n",
    "# Call the function and print the results. These results are used in subsequent questions.\n",
    "names, df_subset, top_10 = Q4_function(functions_df)\n",
    "print(\"Column Names\")\n",
    "print(names)\n",
    "print()\n",
    "print(\"Subsetted Data\")\n",
    "print(df_subset)\n",
    "print()\n",
    "print(\"Top 10 Rows\")\n",
    "print(top_10)"
   ]
  },
  {
   "cell_type": "markdown",
   "metadata": {
    "hideCode": false,
    "hidePrompt": true
   },
   "source": [
    "### Question 5: Using the subsetted DataFrame from the previous question, complete the following tasks.\n",
    "\n",
    "* Identify the data type of every column. Return as a list. *(read about dtypes)*\n",
    "* Strip all white spaces from the columns. \n",
    "    + try using list comprehension along with the 'sub' function in 're' module\n",
    "* Check if 'Time taken' column has NA or empty values:\n",
    "    + use `df.isnull().any()`. \n",
    "    + If YES, replace with 0: use `df.fillna()`.\n",
    "* Using `regex` (`re.search`), convert the 'Time taken' column into seconds (int) and store in a new column called 'time' (e.g., convert __2 mins 10 secs__ into __130__. Note that to get 130, you need to do some math. Use coersion to convert str to int.\n",
    "* Return the DataFrame with 'Time taken' column dropped."
   ]
  },
  {
   "cell_type": "code",
   "execution_count": 6,
   "metadata": {
    "hideCode": false,
    "hidePrompt": true
   },
   "outputs": [
    {
     "name": "stdout",
     "output_type": "stream",
     "text": [
      "Column Datatypes\n",
      "['int64', 'object', 'int64', 'int64', 'int64', 'int64', 'object', 'object', 'object']\n",
      "\n",
      "New Update DataFrame\n",
      "    id  Grade/45.00  Q.1/5.00  Q.2/10.00  Q.3/6.00 Q.4/6.00 Q.5/12.00  \\\n",
      "0    0           32         5          6         6     3.00     12.00   \n",
      "1    1           31         5          8         6        -     12.00   \n",
      "2   12           20         3          4         3        -     10.00   \n",
      "3    2           30         5          6         6     3.00     10.00   \n",
      "4    3           26         5          6         6     3.00      6.00   \n",
      "5    4           25         5          6         6     6.00      2.00   \n",
      "6    5           24         5          6         6     3.00      4.00   \n",
      "7    6           23         5          6         0     0.00      6.00   \n",
      "8    7           23         4          4         6     3.00      6.00   \n",
      "9    8           22         4          4         6     0.00      8.00   \n",
      "10   9           22         5          8         6     3.00         -   \n",
      "11  10           21         5         10         6        -         -   \n",
      "12   4           25         5          6         6     6.00      2.00   \n",
      "13   5           24         5          6         6     3.00      4.00   \n",
      "14  11           21         4          4         3     0.00      4.00   \n",
      "15  12           20         3          4         3        -     10.00   \n",
      "16  13           17         4          4         6     3.00      0.00   \n",
      "17  14           17         5          4         3     3.00      2.00   \n",
      "18  15           16         3          6         3     0.00      4.00   \n",
      "19   6           23         5          6         0     0.00      6.00   \n",
      "20  16           15         4          2         3     0.00      6.00   \n",
      "21  17           13         3          4         6        -         -   \n",
      "22  18           13         3          4         6     0.00      0.00   \n",
      "23   8           22         4          4         6     0.00      8.00   \n",
      "\n",
      "   Q.6/6.00  Time  \n",
      "0      0.00   856  \n",
      "1      0.00  1074  \n",
      "2      0.00   944  \n",
      "3         -  1080  \n",
      "4      0.00  1051  \n",
      "5      0.00  1079  \n",
      "6         -  1080  \n",
      "7      6.00  1080  \n",
      "8      0.00  1081  \n",
      "9      0.00  1004  \n",
      "10        -  1081  \n",
      "11        -  1080  \n",
      "12     0.00  1079  \n",
      "13        -  1080  \n",
      "14     6.00   779  \n",
      "15     0.00   944  \n",
      "16        -  1081  \n",
      "17     0.00  1080  \n",
      "18        -  1081  \n",
      "19     6.00  1080  \n",
      "20     0.00  2919  \n",
      "21        -  1081  \n",
      "22     0.00   871  \n",
      "23     0.00  1004  \n"
     ]
    }
   ],
   "source": [
    "def convert_time(df, column_name):\n",
    "    pattern = re.compile('(([\\d]+)(\\smins))?\\s(([\\d]+)(\\ssecs?))?')\n",
    "    time_list = []\n",
    "    for time in df[column_name]:\n",
    "        result = re.match('(([\\d]+)(\\smins))?\\s?(([\\d]+)(\\ssecs?))?', time)\n",
    "        if result.group(5):\n",
    "            new_time = (int(result.group(2)))*60 + (int(result.group(5)))\n",
    "        else:\n",
    "            new_time = (int(result.group(2)))*60\n",
    "        time_list.append(new_time)\n",
    "    return time_list\n",
    "\n",
    "def Q5_function(df):\n",
    "    \n",
    "    \"\"\"\n",
    "    :type : DataFrame\n",
    "    :rtype: [String], DataFrame\n",
    "    \"\"\"\n",
    "    types = df.dtypes\n",
    "    column_types = []\n",
    "    for typess in types:\n",
    "        column_types.append(str(typess))\n",
    "    df = df.rename(columns = lambda a: re.sub(' ','', a))\n",
    "    if df['Timetaken'].isnull().any():\n",
    "        df['Timetaken'].fillna()\n",
    "    time_list = convert_time(df, 'Timetaken')\n",
    "    df['Time'] = time_list\n",
    "    del df['Timetaken']\n",
    "    return column_types, df\n",
    "\n",
    "# Call the function and print the results. These results are used in subsequent questions.\n",
    "column_types, Q5_df = Q5_function(df_subset)\n",
    "print(\"Column Datatypes\")\n",
    "print(column_types)\n",
    "print()\n",
    "print(\"New Update DataFrame\")\n",
    "print(Q5_df)"
   ]
  },
  {
   "cell_type": "markdown",
   "metadata": {
    "hideCode": false,
    "hidePrompt": true
   },
   "source": [
    "### Question 6: Using the returned DataFrame from the previous question, complete the following tasks.\n",
    "\n",
    "* Some columns might need to be converted to integer for the subsequent tasks. Identify which columns and convert them to int/float.\n",
    "* Are there any duplicate rows? Remove them from the DataFrame.\n",
    "* Data collected might be corrupt. Check whether data is missing or corrupt. Data is missing if there is a '-'. If missing data exists, replace with the mean of other values.\n",
    "* With the above point in mind, find the mean values of all columns except 'id'. Append these as a row to your dataframe and return\n",
    "\n",
    "*Hint: Note that the maximum marks for each column is different. Make sure you parse the information from the column name.*"
   ]
  },
  {
   "cell_type": "code",
   "execution_count": 7,
   "metadata": {
    "hideCode": false,
    "hidePrompt": true,
    "scrolled": false
   },
   "outputs": [
    {
     "name": "stdout",
     "output_type": "stream",
     "text": [
      "      id  Grade/45.00  Q.1/5.00  Q.2/10.00  Q.3/6.00  Q.4/6.00  Q.5/12.00  \\\n",
      "0    0.0    32.000000  5.000000   6.000000  6.000000       3.0      12.00   \n",
      "1    1.0    31.000000  5.000000   8.000000  6.000000       2.0      12.00   \n",
      "2   12.0    20.000000  3.000000   4.000000  3.000000       2.0      10.00   \n",
      "3    2.0    30.000000  5.000000   6.000000  6.000000       3.0      10.00   \n",
      "4    3.0    26.000000  5.000000   6.000000  6.000000       3.0       6.00   \n",
      "5    4.0    25.000000  5.000000   6.000000  6.000000       6.0       2.00   \n",
      "6    5.0    24.000000  5.000000   6.000000  6.000000       3.0       4.00   \n",
      "7    6.0    23.000000  5.000000   6.000000  0.000000       0.0       6.00   \n",
      "8    7.0    23.000000  4.000000   4.000000  6.000000       3.0       6.00   \n",
      "9    8.0    22.000000  4.000000   4.000000  6.000000       0.0       8.00   \n",
      "10   9.0    22.000000  5.000000   8.000000  6.000000       3.0       5.75   \n",
      "11  10.0    21.000000  5.000000  10.000000  6.000000       2.0       5.75   \n",
      "12  11.0    21.000000  4.000000   4.000000  3.000000       0.0       4.00   \n",
      "13  13.0    17.000000  4.000000   4.000000  6.000000       3.0       0.00   \n",
      "14  14.0    17.000000  5.000000   4.000000  3.000000       3.0       2.00   \n",
      "15  15.0    16.000000  3.000000   6.000000  3.000000       0.0       4.00   \n",
      "16  16.0    15.000000  4.000000   2.000000  3.000000       0.0       6.00   \n",
      "17  17.0    13.000000  3.000000   4.000000  6.000000       2.0       5.75   \n",
      "18  18.0    13.000000  3.000000   4.000000  6.000000       0.0       0.00   \n",
      "19   NaN    21.631579  4.315789   5.368421  4.894737       2.0       5.75   \n",
      "\n",
      "    Q.6/6.00         Time  \n",
      "0        0.0   856.000000  \n",
      "1        0.0  1074.000000  \n",
      "2        0.0   944.000000  \n",
      "3        1.0  1080.000000  \n",
      "4        0.0  1051.000000  \n",
      "5        0.0  1079.000000  \n",
      "6        1.0  1080.000000  \n",
      "7        6.0  1080.000000  \n",
      "8        0.0  1081.000000  \n",
      "9        0.0  1004.000000  \n",
      "10       1.0  1081.000000  \n",
      "11       1.0  1080.000000  \n",
      "12       6.0   779.000000  \n",
      "13       1.0  1081.000000  \n",
      "14       0.0  1080.000000  \n",
      "15       1.0  1081.000000  \n",
      "16       0.0  2919.000000  \n",
      "17       1.0  1081.000000  \n",
      "18       0.0   871.000000  \n",
      "19       1.0  1125.368421  \n"
     ]
    }
   ],
   "source": [
    "import numpy as np\n",
    "\n",
    "def apply_mean(x):\n",
    "    if x is '-':\n",
    "        return df['Q.4/6.00'].mean()\n",
    "\n",
    "def Q6_function(df):\n",
    "    \n",
    "    \"\"\"\n",
    "    :type : DataFrame\n",
    "    :rtype: DataFrame\n",
    "    \"\"\"\n",
    "    changing_columns = ['Q.5/12.00','Q.4/6.00','Q.6/6.00']\n",
    "    df[changing_columns] = df[changing_columns].apply(pd.to_numeric, errors='coerce')\n",
    "    df = df.drop_duplicates()\n",
    "    df = df.fillna(df.mean())\n",
    "    mean_row = df.mean()\n",
    "    mean_row.iloc[0] = np.nan\n",
    "    df = df.append(mean_row, ignore_index=True)\n",
    "    return df\n",
    "\n",
    "# Call the function and print the results.\n",
    "Q6_df = Q6_function(Q5_df)\n",
    "print(Q6_df)"
   ]
  },
  {
   "cell_type": "markdown",
   "metadata": {
    "hideCode": false,
    "hidePrompt": true
   },
   "source": [
    "### Question 7: Use previously created functions to load the 'Exceptions' dataset as a dataframe\n",
    "\n",
    "* Calculate the mean of the total grade obtained by the students.\n",
    "* Calculate the standard deviation of the total grade obtained by the students.\n",
    "* Calculate Q1,Q2 and Q3 (quantiles) for the total grade.\n",
    "* Find the maximum and minimum values for the total grade\n",
    "\n",
    "* Return all values rounded to 2 decimal places\n",
    "\n",
    "*Hint: Use the df.describe function*"
   ]
  },
  {
   "cell_type": "code",
   "execution_count": 8,
   "metadata": {
    "hideCode": false,
    "hidePrompt": true
   },
   "outputs": [
    {
     "name": "stdout",
     "output_type": "stream",
     "text": [
      "Mean: 14.83\n",
      "Std. Dev.: 2.19\n",
      "First Quantile 13.46\n",
      "Second Quantile 14.66\n",
      "Third Quantile 16.62\n",
      "Max: 18.5\n",
      "Min: 10.83\n"
     ]
    }
   ],
   "source": [
    "def Q7_function(file):\n",
    "    \"\"\"\n",
    "    :type : String\n",
    "    :rtype: Float\n",
    "    \"\"\"\n",
    "    files = Q1_function()\n",
    "    df = Q3_function(files, file)\n",
    "    mean_ = df['Grade/21.00'].mean()\n",
    "    std_ = df['Grade/21.00'].std()\n",
    "    q1 = df['Grade/21.00'].quantile(0.25)\n",
    "    q2 = df['Grade/21.00'].quantile(0.50)\n",
    "    q3 = df['Grade/21.00'].quantile(0.75)\n",
    "    max_ = df['Grade/21.00'].max()\n",
    "    min_ = df['Grade/21.00'].min()\n",
    "    return float(str(round(mean_, 2))),float(str(round(std_, 2))),float(str(round(q1, 2))),float(str(round(q2, 2))),float(str(round(q3, 2))),float(str(round(max_, 2))),float(str(round(min_, 2)))\n",
    "\n",
    "# Call the function and print the results.\n",
    "mean_,std_,q1,q2,q3,max_,min_ = Q7_function(file=\"Exceptions\")\n",
    "print(\"Mean:\", mean_)\n",
    "print(\"Std. Dev.:\", std_)\n",
    "print(\"First Quantile\", q1)\n",
    "print(\"Second Quantile\", q2)\n",
    "print(\"Third Quantile\", q3)\n",
    "print(\"Max:\", max_)\n",
    "print(\"Min:\", min_)"
   ]
  },
  {
   "cell_type": "markdown",
   "metadata": {
    "hideCode": false,
    "hidePrompt": true
   },
   "source": [
    "### Question 8: Create a boxplot of the grade distribution in the 'Exceptions' dataset.\n",
    "\n",
    "* Compare the plot lines to the values calculated in the previous question.\n",
    "* Use df.plot.box function."
   ]
  },
  {
   "cell_type": "code",
   "execution_count": 9,
   "metadata": {
    "hideCode": false,
    "hidePrompt": true
   },
   "outputs": [
    {
     "data": {
      "text/plain": [
       "<matplotlib.axes._subplots.AxesSubplot at 0x122195510>"
      ]
     },
     "execution_count": 9,
     "metadata": {},
     "output_type": "execute_result"
    },
    {
     "data": {
      "image/png": "[encoded data removed]",
      "text/plain": [
       "<Figure size 432x288 with 1 Axes>"
      ]
     },
     "metadata": {
      "needs_background": "light"
     },
     "output_type": "display_data"
    }
   ],
   "source": [
    "def Q8_function(file):\n",
    "    \n",
    "    \"\"\"\n",
    "    :type : String\n",
    "    :rtype: Plot\n",
    "    \"\"\"\n",
    "    \n",
    "    df = Q3_function(filenames, file)\n",
    "    Q8_plot = df[['Grade/21.00']].plot.box(return_type='axes')\n",
    "    return Q8_plot\n",
    "\n",
    "# Call the function. Plot will display.\n",
    "Q8_function(file='Exceptions')"
   ]
  },
  {
   "cell_type": "markdown",
   "metadata": {
    "hideCode": false,
    "hidePrompt": true
   },
   "source": [
    "### Question 9: Return the number of rows and columns present in the 'Strings' dataset\n",
    "\n",
    "* Use the `df.shape` attribute."
   ]
  },
  {
   "cell_type": "code",
   "execution_count": 10,
   "metadata": {
    "hideCode": false,
    "hidePrompt": true
   },
   "outputs": [
    {
     "name": "stdout",
     "output_type": "stream",
     "text": [
      "Rows: 17\n",
      "Columns: 8\n"
     ]
    }
   ],
   "source": [
    "def Q9_function(file):\n",
    "    \n",
    "    \"\"\"\n",
    "    :type : String\n",
    "    :rtype: list\n",
    "    \"\"\" \n",
    "    df = Q3_function(filenames, file)\n",
    "    return list(df.shape)\n",
    "    \n",
    "# Call the function and print the results\n",
    "rows, columns = Q9_function (file='Strings')\n",
    "print(\"Rows:\",rows)\n",
    "print(\"Columns:\",columns)"
   ]
  },
  {
   "cell_type": "markdown",
   "metadata": {
    "hideCode": false,
    "hidePrompt": true
   },
   "source": [
    "### Question 10: Use the output from Question 5. Group the students based on their score in 'Q. 5 /12.00' column\n",
    "\n",
    "* Which students scored 0 \n",
    "* How many students achieved the maximum possible score\n",
    "* Consider NA/missing values as 0\n",
    "\n",
    "*Hint : Use groupby function.*\n"
   ]
  },
  {
   "cell_type": "code",
   "execution_count": 11,
   "metadata": {
    "hideCode": false,
    "hidePrompt": true
   },
   "outputs": [
    {
     "name": "stdout",
     "output_type": "stream",
     "text": [
      "Students scoring zero : [9, 10, 13, 17, 18]\n",
      "Number of students with maximum score : 2\n"
     ]
    }
   ],
   "source": [
    "def Q10_function(df):\n",
    "    \n",
    "    \"\"\"\n",
    "    :type : DataFrame\n",
    "    :rtype: list, int\n",
    "    \"\"\"\n",
    "    df['Q.5/12.00'] = df['Q.5/12.00'].apply(pd.to_numeric, errors='coerce')\n",
    "    df['Q.5/12.00'] = df['Q.5/12.00'].fillna(0)\n",
    "    max_ = df['Q.5/12.00'].max()\n",
    "    q5_groups = df.groupby(['Q.5/12.00'])\n",
    "    zero_group = q5_groups.get_group(0)\n",
    "    zero = zero_group['id'].tolist()\n",
    "    maximum = len(q5_groups.get_group(max_))\n",
    "    return zero, maximum\n",
    "\n",
    "# Call the function and print the results\n",
    "zero, maximum = Q10_function(Q5_df)\n",
    "print(\"Students scoring zero :\",zero)\n",
    "print(\"Number of students with maximum score :\",maximum)"
   ]
  },
  {
   "cell_type": "markdown",
   "metadata": {
    "hideCode": false,
    "hidePrompt": true
   },
   "source": [
    "### Question 11: Find out who ('id') has scored the maximum combined score in the 'Tuples' and 'Taxonomy' quiz.\n",
    "\n",
    "* Use the `pd.merge()` function.\n",
    "* Call the function you wrote for Question 5 to convert time and remove spaces in columns (will be used in later questions).\n",
    "* Create a new column 'Total_score' which is the sum of the scores of the two quizzes."
   ]
  },
  {
   "cell_type": "code",
   "execution_count": 12,
   "metadata": {
    "hideCode": false,
    "hidePrompt": true,
    "scrolled": false
   },
   "outputs": [
    {
     "name": "stdout",
     "output_type": "stream",
     "text": [
      "Max scorer : 10\n"
     ]
    }
   ],
   "source": [
    "def Q11_function():\n",
    "    \n",
    "    \"\"\"\n",
    "    :type : None\n",
    "    :rtype: Dataframe, int\n",
    "    \"\"\" \n",
    "    df1 = Q3_function(filenames, 'Tuples')\n",
    "    df2 = Q3_function(filenames, 'Taxonomy')\n",
    "    df = pd.merge(df1, df2, how = 'inner', on = 'id')\n",
    "    df['Grade/20.00'] = df['Grade/20.00'].fillna(0.0)\n",
    "    df.loc[:,'Total_score'] = df.loc[:,'Grade/20.00'].add(df.loc[:,'Grade/21.00'])\n",
    "    max_ = df['Total_score'].max()\n",
    "    max_group = df.groupby(['Total_score']).get_group(max_)\n",
    "    max_scorer = max_group['id'].to_list()\n",
    "    df = df.rename(columns = lambda a: re.sub(' ','', a))\n",
    "    df['Timetaken_x'] = convert_time(df, 'Timetaken_x')\n",
    "    df['Timetaken_y'] = convert_time(df, 'Timetaken_y')\n",
    "    return df, max_scorer[0]\n",
    "\n",
    "# Call the function and print the results. The DataFrame will be used in subsequent questions\n",
    "Q11_df,max_scorer = Q11_function()\n",
    "print(\"Max scorer :\",max_scorer)"
   ]
  },
  {
   "cell_type": "markdown",
   "metadata": {
    "hideCode": false,
    "hidePrompt": true
   },
   "source": [
    "### Question 12: Use the DataFrame generated in Question 11 and return the list of ids whose total time for both quizzes is less than than 20 minutes.\n",
    "\n",
    "* Sort the list before returning.\n",
    "* Can you code it in one line?"
   ]
  },
  {
   "cell_type": "code",
   "execution_count": 13,
   "metadata": {
    "hideCode": false,
    "hidePrompt": true
   },
   "outputs": [
    {
     "name": "stdout",
     "output_type": "stream",
     "text": [
      "ID of students : [3, 4, 7, 8, 12, 18]\n"
     ]
    }
   ],
   "source": [
    "def Q12_function(df):\n",
    "    \n",
    "    \"\"\"\n",
    "    :type : DataFrame\n",
    "    :rtype: list(int)\n",
    "    \"\"\" \n",
    "    return sorted(df.query('Timetaken_x + Timetaken_y < 1200').id.to_list())\n",
    "\n",
    "# Call the function and print the results.\n",
    "ids = Q12_function(Q11_df)\n",
    "print(\"ID of students :\",ids)"
   ]
  },
  {
   "cell_type": "markdown",
   "metadata": {
    "hideCode": false,
    "hidePrompt": true
   },
   "source": [
    "### Question 13: Discretize the column 'Grade/45.00' for the DataFrame generated in Question 6 and create a new column. Find the number of people (id) per bin. Return a DataFrame with only the bins and count per bin.\n",
    "\n",
    "*Hints:* \n",
    "* _Use 'cut' and 'groupby'._\n",
    "* _You won't need to use 'drop' to drop columns. Use groupby and check the result._\n",
    "* _Use 5 bins_\n",
    "* _Don't consider 'Overall Average' row._"
   ]
  },
  {
   "cell_type": "code",
   "execution_count": 14,
   "metadata": {
    "hideCode": false,
    "hidePrompt": true
   },
   "outputs": [
    {
     "name": "stdout",
     "output_type": "stream",
     "text": [
      "             bins  count\n",
      "0  (12.981, 16.8]      4\n",
      "1    (16.8, 20.6]      3\n",
      "2    (20.6, 24.4]      7\n",
      "3    (24.4, 28.2]      2\n",
      "4    (28.2, 32.0]      3\n"
     ]
    }
   ],
   "source": [
    "def Q13_function(df):\n",
    "    \n",
    "    \"\"\"\n",
    "    :type : DataFrame\n",
    "    :rtype: DataFrame\n",
    "    \"\"\"\n",
    "    df.dropna(subset=['id'],inplace=True)\n",
    "    df['bins'] = pd.cut(df['Grade/45.00'], 5)\n",
    "    gps = df.groupby(['bins'])\n",
    "    return gps.size().reset_index(name='count')\n",
    "\n",
    "# Call the function and print the results.\n",
    "Q13_df = Q13_function(Q6_df)\n",
    "print(Q13_df)"
   ]
  },
  {
   "cell_type": "markdown",
   "metadata": {
    "hideCode": false,
    "hidePrompt": true
   },
   "source": [
    "### INSTRUCTIONS: Complete unit testing for the remaining functions to check correctness of your code."
   ]
  },
  {
   "cell_type": "code",
   "execution_count": 15,
   "metadata": {
    "hideCode": false,
    "hidePrompt": true,
    "scrolled": false
   },
   "outputs": [
    {
     "name": "stderr",
     "output_type": "stream",
     "text": [
      "test_Q01_function (__main__.TestNotebook) ... ok\n",
      "test_Q02_function (__main__.TestNotebook) ... ok\n",
      "test_Q03_function (__main__.TestNotebook) ... /Users/tanayagrawal/anaconda3/lib/python3.7/site-packages/xlrd/xlsx.py:266: PendingDeprecationWarning: This method will be removed in future versions.  Use 'tree.iter()' or 'list(tree.iter())' instead.\n",
      "  for elem in self.tree.iter() if Element_has_iter else self.tree.getiterator():\n",
      "/Users/tanayagrawal/anaconda3/lib/python3.7/site-packages/xlrd/xlsx.py:312: PendingDeprecationWarning: This method will be removed in future versions.  Use 'tree.iter()' or 'list(tree.iter())' instead.\n",
      "  for elem in self.tree.iter() if Element_has_iter else self.tree.getiterator():\n",
      "ok\n",
      "test_Q04_function (__main__.TestNotebook) ... ok\n",
      "test_Q05_function (__main__.TestNotebook) ... ok\n",
      "test_Q06_function (__main__.TestNotebook) ... ok\n",
      "test_Q07_function (__main__.TestNotebook) ... ok\n",
      "test_Q09_function (__main__.TestNotebook) ... ok\n",
      "test_Q10_function (__main__.TestNotebook) ... ok\n",
      "test_Q11_function (__main__.TestNotebook) ... ok\n",
      "test_Q12_function (__main__.TestNotebook) ... ok\n",
      "test_Q13_function (__main__.TestNotebook) ... ok\n",
      "\n",
      "----------------------------------------------------------------------\n",
      "Ran 12 tests in 0.121s\n",
      "\n",
      "OK\n"
     ]
    },
    {
     "data": {
      "text/plain": [
       "<unittest.main.TestProgram at 0x122972b50>"
      ]
     },
     "execution_count": 15,
     "metadata": {},
     "output_type": "execute_result"
    }
   ],
   "source": [
    "import unittest\n",
    "\n",
    "class TestNotebook(unittest.TestCase):\n",
    "\n",
    "\n",
    "    def test_Q01_function(self):\n",
    "\n",
    "        result=Q1_function()\n",
    "        ans1='Python-QUIZ Taxonomy of Python Data Structures (12 min.)-grades.xlsx'\n",
    "        ans2='Python-QUIZ Functions (18 min.)-grades.xlsx'\n",
    "        ans3='Python-QUIZ Coercion (6 min.)-grades.xlsx'\n",
    "        ans4='Python-QUIZ Strings (5 min.)-grades.xlsx'\n",
    "        ans5='Python-QUIZ Lists (10 min.)-grades.xlsx'\n",
    "        ans6='Python-QUIZ Iterations (6 min.)-grades.xlsx'\n",
    "        ans7='Python-QUIZ Sets (7 min)-grades.xlsx'\n",
    "        ans8='Python-QUIZ Exceptions (10 min.)-grades.xlsx'\n",
    "        ans9='Python-QUIZ Dictionaries (10 min.)-grades.xlsx'\n",
    "        ans10='Python-QUIZ Tuples (10 min.)-grades.xlsx'\n",
    "        ans11='Python-QUIZ Conditionals (6 min.)-grades.xlsx'\n",
    "        #Handling removal of the path to check only filename\n",
    "        self.assertEqual(ans1,result[0].split(\"/\")[-1].split(\"\\\\\")[-1])\n",
    "        self.assertEqual(ans2,result[1].split(\"/\")[-1].split(\"\\\\\")[-1])\n",
    "        self.assertEqual(ans3,result[2].split(\"/\")[-1].split(\"\\\\\")[-1])\n",
    "        self.assertEqual(ans4,result[3].split(\"/\")[-1].split(\"\\\\\")[-1])\n",
    "        self.assertEqual(ans5,result[4].split(\"/\")[-1].split(\"\\\\\")[-1])\n",
    "        self.assertEqual(ans6,result[5].split(\"/\")[-1].split(\"\\\\\")[-1])\n",
    "        self.assertEqual(ans7,result[6].split(\"/\")[-1].split(\"\\\\\")[-1])\n",
    "        self.assertEqual(ans8,result[7].split(\"/\")[-1].split(\"\\\\\")[-1])\n",
    "        self.assertEqual(ans9,result[8].split(\"/\")[-1].split(\"\\\\\")[-1])\n",
    "        self.assertEqual(ans10,result[9].split(\"/\")[-1].split(\"\\\\\")[-1])\n",
    "        self.assertEqual(ans11,result[10].split(\"/\")[-1].split(\"\\\\\")[-1])\n",
    "\n",
    "    \n",
    "    def test_Q02_function(self):\n",
    "        \n",
    "        ans='Python-QUIZ Lists (10 min.)-grades.xlsx'\n",
    "        result=Q2_function(filenames, s = \"Lists\")\n",
    "        #Handling removal of the path to check only filename\n",
    "        self.assertEqual(ans,result.split(\"/\")[-1].split(\"\\\\\")[-1])\n",
    "\n",
    "        \n",
    "    def test_Q03_function(self):\n",
    "        \n",
    "        ans = 24 \n",
    "        result=Q3_function(filenames, s = \"Functions\")\n",
    "        #Checking if the dataframe returned has 23 records or not.\n",
    "        self.assertEqual(ans,result.shape[0])\n",
    "\n",
    "        \n",
    "    def test_Q04_function(self):\n",
    "        \n",
    "        cols_ans=['State', 'Started on', 'Completed', 'Time taken', 'Grade/45.00', 'Q. 1 /5.00', 'Q. 2 /10.00', 'Q. 3 /6.00', 'Q. 4 /6.00', 'Q. 5 /12.00', 'Q. 6 /6.00',  'id']\n",
    "        subset_cols_ans= [\"id\", \"Time taken\", \"Grade/45.00\", \"Q. 1 /5.00\", \"Q. 2 /10.00\", \"Q. 3 /6.00\", \"Q. 4 /6.00\", \"Q. 5 /12.00\", \"Q. 6 /6.00\"]\n",
    "        top_ans=10\n",
    "        cols_result,subset_result,top_result=Q4_function(functions_df)\n",
    "        self.assertEqual(cols_ans,list(cols_result))\n",
    "        self.assertEqual(subset_cols_ans,list(subset_result.columns))\n",
    "        self.assertEqual(top_ans,len(top_result))\n",
    "        \n",
    "  \n",
    "    def test_Q05_function(self):\n",
    "        \n",
    "        cols_types=['int64', 'object', 'int64', 'int64', 'int64', 'int64', 'object', 'object', 'object'] \n",
    "        cols_types_result,subset_df_result=Q5_function(functions_df)\n",
    "        self.assertEqual(cols_types.sort(),cols_types_result.sort())\n",
    "        self.assertIn('Time', subset_df_result.columns)\n",
    "        self.assertNotIn('Timetaken', subset_df_result.columns)\n",
    "        \n",
    "        \n",
    "    def test_Q06_function(self):\n",
    "        \n",
    "        df_res=Q6_function(Q5_df)\n",
    "        self.assertFalse(df_res.duplicated(['id']).any())\n",
    "        \n",
    "        \n",
    "    def test_Q07_function(self):\n",
    "        \n",
    "        ans=(14.83,2.19,13.46,14.66,16.62,18.5,10.83) \n",
    "        result=Q7_function(file=\"Exceptions\")\n",
    "        self.assertEqual(ans, result)\n",
    "        \n",
    "        \n",
    "    def test_Q09_function(self):\n",
    "        \n",
    "        rows_ans=17\n",
    "        cols_ans=8\n",
    "        rows_result,cols_result=Q9_function(file=\"Strings\")\n",
    "        self.assertEqual(rows_ans, rows_result)\n",
    "        self.assertEqual(cols_ans, cols_result)\n",
    "        \n",
    "    \n",
    "    def test_Q10_function(self):\n",
    "        \n",
    "        student_with_zero_ans=[9, 10, 13, 17, 18]\n",
    "        max_score_count_ans=2\n",
    "        student_with_zero_result,max_score_count_result=Q10_function(Q5_df)\n",
    "        self.assertEqual(student_with_zero_ans, student_with_zero_result)\n",
    "        self.assertEqual(max_score_count_ans, max_score_count_result)\n",
    "\n",
    "\n",
    "    def test_Q11_function(self):\n",
    "        \n",
    "        max_scorer_ans=10\n",
    "        temp_df,max_scorer_result=Q11_function()\n",
    "        self.assertEqual(max_scorer_ans, max_scorer_result)\n",
    "\n",
    "        \n",
    "    def test_Q12_function(self):\n",
    "        ans=[3, 4, 7, 8, 12, 18]   \n",
    "        result=Q12_function(Q11_df)\n",
    "        self.assertEqual(ans, result)\n",
    "        \n",
    "        \n",
    "    def test_Q13_function(self):\n",
    "        ans = [[15, 16, 17, 18], [12, 13, 14], [5, 6, 7, 8, 9, 10, 11], [3, 4], [0, 1, 2]]\n",
    "        temp = Q13_function(Q6_df)\n",
    "        result = temp['count'].tolist()\n",
    "        \n",
    "        for x in range(len(ans)):\n",
    "            self.assertEqual(result[x], len(ans[x]))\n",
    "\n",
    "        \n",
    "unittest.main(argv=[''], verbosity=2, exit=False)"
   ]
  },
  {
   "cell_type": "code",
   "execution_count": null,
   "metadata": {},
   "outputs": [],
   "source": []
  },
  {
   "cell_type": "code",
   "execution_count": null,
   "metadata": {},
   "outputs": [],
   "source": []
  },
  {
   "cell_type": "code",
   "execution_count": null,
   "metadata": {},
   "outputs": [],
   "source": []
  }
 ],
 "metadata": {
  "celltoolbar": "Hide code",
  "hide_code_all_hidden": true,
  "kernelspec": {
   "display_name": "Python 3",
   "language": "python",
   "name": "python3"
  },
  "language_info": {
   "codemirror_mode": {
    "name": "ipython",
    "version": 3
   },
   "file_extension": ".py",
   "mimetype": "text/x-python",
   "name": "python",
   "nbconvert_exporter": "python",
   "pygments_lexer": "ipython3",
   "version": "3.7.4"
  }
 },
 "nbformat": 4,
 "nbformat_minor": 2
}
